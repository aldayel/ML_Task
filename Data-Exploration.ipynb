#firstly Data Exploration
import numpy as np
import pandas as pd
import matplotlib.pyplot as plt
import seaborn as sns
from sklearn.preprocessing import LabelEncoder



df = pd.read_csv('mushrooms.csv')


print(df.head(10))
print(df.info())
print(df.describe())

# Check null values
print(df.isnull().sum())

df = df.drop_duplicates()

# Data Visualization
# Plot the distribution of the 'class' attribute
sns.countplot(x='class', data=df)
plt.title('Distribution of Mushroom Classes')
plt.show()


# encoding
df_encoded = df.apply(lambda x: pd.factorize(x)[0])

# correlation matrix
correlation_matrix = df_encoded.corr()

# Plot the heatmap
plt.figure(figsize=(12, 10))
sns.heatmap(correlation_matrix, annot=True, cmap='coolwarm')
plt.title('Corr Matrix')
plt.show()



# Create a label encoder object
label_encoder = LabelEncoder()
# Apply one-hot encoding to the dataframe
df_encoded = pd.get_dummies(df)

print(df_encoded.head())
